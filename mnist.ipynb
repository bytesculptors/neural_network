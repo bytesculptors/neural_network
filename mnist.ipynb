{
  "cells": [
    {
      "cell_type": "code",
      "execution_count": null,
      "metadata": {
        "id": "8755ac14"
      },
      "outputs": [],
      "source": [
        "import torch\n",
        "import torchvision\n",
        "import numpy as np\n",
        "import matplotlib\n",
        "import matplotlib.pyplot as plt\n",
        "import torch.nn as nn\n",
        "import torch.nn.functional as F\n",
        "from torchvision.datasets import MNIST\n",
        "from torchvision.transforms import ToTensor\n",
        "from torchvision.utils import make_grid\n",
        "from torch.utils.data.dataloader import DataLoader\n",
        "from torch.utils.data import random_split\n",
        "%matplotlib inline\n",
        "\n",
        "# Use a white background for matplotlib figures\n",
        "matplotlib.rcParams['figure.facecolor'] = '#ffffff'"
      ],
      "id": "8755ac14"
    },
    {
      "cell_type": "code",
      "execution_count": null,
      "metadata": {
        "id": "935ae2af",
        "colab": {
          "base_uri": "https://localhost:8080/"
        },
        "outputId": "267dc63f-6906-4d69-9648-e1877f813770"
      },
      "outputs": [
        {
          "output_type": "stream",
          "name": "stdout",
          "text": [
            "Downloading http://yann.lecun.com/exdb/mnist/train-images-idx3-ubyte.gz\n",
            "Downloading http://yann.lecun.com/exdb/mnist/train-images-idx3-ubyte.gz to data/MNIST/raw/train-images-idx3-ubyte.gz\n"
          ]
        },
        {
          "output_type": "stream",
          "name": "stderr",
          "text": [
            "100%|██████████| 9912422/9912422 [00:00<00:00, 82418066.53it/s]\n"
          ]
        },
        {
          "output_type": "stream",
          "name": "stdout",
          "text": [
            "Extracting data/MNIST/raw/train-images-idx3-ubyte.gz to data/MNIST/raw\n",
            "\n",
            "Downloading http://yann.lecun.com/exdb/mnist/train-labels-idx1-ubyte.gz\n",
            "Downloading http://yann.lecun.com/exdb/mnist/train-labels-idx1-ubyte.gz to data/MNIST/raw/train-labels-idx1-ubyte.gz\n"
          ]
        },
        {
          "output_type": "stream",
          "name": "stderr",
          "text": [
            "100%|██████████| 28881/28881 [00:00<00:00, 72061685.80it/s]"
          ]
        },
        {
          "output_type": "stream",
          "name": "stdout",
          "text": [
            "Extracting data/MNIST/raw/train-labels-idx1-ubyte.gz to data/MNIST/raw\n",
            "\n",
            "Downloading http://yann.lecun.com/exdb/mnist/t10k-images-idx3-ubyte.gz\n",
            "Downloading http://yann.lecun.com/exdb/mnist/t10k-images-idx3-ubyte.gz to data/MNIST/raw/t10k-images-idx3-ubyte.gz\n"
          ]
        },
        {
          "output_type": "stream",
          "name": "stderr",
          "text": [
            "\n",
            "100%|██████████| 1648877/1648877 [00:00<00:00, 19283067.37it/s]\n"
          ]
        },
        {
          "output_type": "stream",
          "name": "stdout",
          "text": [
            "Extracting data/MNIST/raw/t10k-images-idx3-ubyte.gz to data/MNIST/raw\n",
            "\n",
            "Downloading http://yann.lecun.com/exdb/mnist/t10k-labels-idx1-ubyte.gz\n",
            "Downloading http://yann.lecun.com/exdb/mnist/t10k-labels-idx1-ubyte.gz to data/MNIST/raw/t10k-labels-idx1-ubyte.gz\n"
          ]
        },
        {
          "output_type": "stream",
          "name": "stderr",
          "text": [
            "100%|██████████| 4542/4542 [00:00<00:00, 12426959.41it/s]\n"
          ]
        },
        {
          "output_type": "stream",
          "name": "stdout",
          "text": [
            "Extracting data/MNIST/raw/t10k-labels-idx1-ubyte.gz to data/MNIST/raw\n",
            "\n"
          ]
        }
      ],
      "source": [
        "dataset = MNIST(root='data/', train=True, transform=ToTensor(), download=True)"
      ],
      "id": "935ae2af"
    },
    {
      "cell_type": "code",
      "execution_count": null,
      "metadata": {
        "colab": {
          "base_uri": "https://localhost:8080/"
        },
        "id": "10cd3ac5",
        "outputId": "c78e3792-ff38-4f2c-f6cb-19a1900a2faa"
      },
      "outputs": [
        {
          "output_type": "execute_result",
          "data": {
            "text/plain": [
              "60000"
            ]
          },
          "metadata": {},
          "execution_count": 3
        }
      ],
      "source": [
        "len(dataset)"
      ],
      "id": "10cd3ac5"
    },
    {
      "cell_type": "code",
      "execution_count": null,
      "metadata": {
        "id": "f9ae2bc3"
      },
      "outputs": [],
      "source": [
        "train_lenght = 50000\n",
        "valid_length = len(dataset) - train_lenght\n",
        "train_ds, valid_ds = random_split(dataset, [train_lenght, valid_length])"
      ],
      "id": "f9ae2bc3"
    },
    {
      "cell_type": "code",
      "execution_count": null,
      "metadata": {
        "colab": {
          "base_uri": "https://localhost:8080/"
        },
        "id": "070e4344",
        "outputId": "acb3a28d-2863-4189-c995-1e1eb48ef99d"
      },
      "outputs": [
        {
          "output_type": "execute_result",
          "data": {
            "text/plain": [
              "(50000, 10000)"
            ]
          },
          "metadata": {},
          "execution_count": 5
        }
      ],
      "source": [
        "len(train_ds), len(valid_ds)"
      ],
      "id": "070e4344"
    },
    {
      "cell_type": "code",
      "execution_count": null,
      "metadata": {
        "colab": {
          "base_uri": "https://localhost:8080/"
        },
        "id": "693ac6a4",
        "outputId": "04dc722b-7363-4ed4-f892-bc0d49c88d1f"
      },
      "outputs": [
        {
          "output_type": "stream",
          "name": "stderr",
          "text": [
            "/usr/local/lib/python3.10/dist-packages/torch/utils/data/dataloader.py:557: UserWarning: This DataLoader will create 4 worker processes in total. Our suggested max number of worker in current system is 2, which is smaller than what this DataLoader is going to create. Please be aware that excessive worker creation might get DataLoader running slow or even freeze, lower the worker number to avoid potential slowness/freeze if necessary.\n",
            "  warnings.warn(_create_warning_msg(\n"
          ]
        },
        {
          "output_type": "execute_result",
          "data": {
            "text/plain": [
              "(391, 40)"
            ]
          },
          "metadata": {},
          "execution_count": 6
        }
      ],
      "source": [
        "batch_size = 128\n",
        "train_loader = DataLoader(train_ds, batch_size, shuffle=True, num_workers=4, pin_memory=True)\n",
        "valid_loader = DataLoader(valid_ds, batch_size * 2, num_workers=4, pin_memory=True)\n",
        "len(train_loader), len(valid_loader)"
      ],
      "id": "693ac6a4"
    },
    {
      "cell_type": "code",
      "execution_count": null,
      "metadata": {
        "colab": {
          "base_uri": "https://localhost:8080/"
        },
        "id": "45a67bfb",
        "outputId": "e5d46e7a-1da5-4512-d4ed-28f2317619cb"
      },
      "outputs": [
        {
          "output_type": "stream",
          "name": "stdout",
          "text": [
            "torch.Size([128, 1, 28, 28])\n",
            "torch.Size([128, 784])\n"
          ]
        }
      ],
      "source": [
        "for batch in train_loader:\n",
        "    images, labels = batch\n",
        "    print(images.shape)\n",
        "    inputs = images.reshape(-1, 784)\n",
        "    print(inputs.shape)\n",
        "    break"
      ],
      "id": "45a67bfb"
    },
    {
      "cell_type": "code",
      "execution_count": null,
      "metadata": {
        "colab": {
          "base_uri": "https://localhost:8080/"
        },
        "id": "79e0be13",
        "outputId": "c0486715-c984-42c8-c700-faa0837e5678"
      },
      "outputs": [
        {
          "output_type": "execute_result",
          "data": {
            "text/plain": [
              "784"
            ]
          },
          "metadata": {},
          "execution_count": 8
        }
      ],
      "source": [
        "input_size = 784\n",
        "input_size"
      ],
      "id": "79e0be13"
    },
    {
      "cell_type": "code",
      "execution_count": null,
      "metadata": {
        "id": "ca22f1bf"
      },
      "outputs": [],
      "source": [
        "hidden_size = 32\n",
        "output_size = 10"
      ],
      "id": "ca22f1bf"
    },
    {
      "cell_type": "code",
      "execution_count": null,
      "metadata": {
        "id": "b7904ce4"
      },
      "outputs": [],
      "source": [
        "layer1 = nn.Linear(input_size, hidden_size)"
      ],
      "id": "b7904ce4"
    },
    {
      "cell_type": "code",
      "execution_count": null,
      "metadata": {
        "id": "f680f9cc"
      },
      "outputs": [],
      "source": [
        "layer1_output = layer1(inputs)"
      ],
      "id": "f680f9cc"
    },
    {
      "cell_type": "code",
      "execution_count": null,
      "metadata": {
        "colab": {
          "base_uri": "https://localhost:8080/"
        },
        "id": "4d9452ff",
        "outputId": "82e50635-ac00-4204-d56e-754304af2d7f"
      },
      "outputs": [
        {
          "output_type": "execute_result",
          "data": {
            "text/plain": [
              "torch.Size([128, 32])"
            ]
          },
          "metadata": {},
          "execution_count": 12
        }
      ],
      "source": [
        "layer1_output.shape"
      ],
      "id": "4d9452ff"
    },
    {
      "cell_type": "code",
      "execution_count": null,
      "metadata": {
        "colab": {
          "base_uri": "https://localhost:8080/"
        },
        "id": "d9f8a2bd",
        "outputId": "e4d32f32-758a-479c-c1d2-b9a69c7891ef"
      },
      "outputs": [
        {
          "output_type": "execute_result",
          "data": {
            "text/plain": [
              "tensor([[-0.3601, -0.0895, -0.1556,  ..., -0.0896,  0.0103,  0.0498],\n",
              "        [-0.5121, -0.0839, -0.0836,  ..., -0.1305,  0.2450, -0.1066],\n",
              "        [-0.1163,  0.0382, -0.0425,  ..., -0.1344,  0.0579, -0.3537],\n",
              "        ...,\n",
              "        [-0.1191, -0.2313, -0.0477,  ..., -0.5457,  0.2694, -0.1134],\n",
              "        [ 0.1187, -0.1402,  0.0905,  ..., -0.1163,  0.1721, -0.1669],\n",
              "        [ 0.0254, -0.0229, -0.1455,  ..., -0.1174,  0.0344, -0.2503]],\n",
              "       grad_fn=<AddmmBackward0>)"
            ]
          },
          "metadata": {},
          "execution_count": 13
        }
      ],
      "source": [
        "layer1_output"
      ],
      "id": "d9f8a2bd"
    },
    {
      "cell_type": "code",
      "execution_count": null,
      "metadata": {
        "colab": {
          "base_uri": "https://localhost:8080/"
        },
        "id": "98b787f8",
        "outputId": "153e4aaa-dcc9-4501-9b2f-5855e926551e"
      },
      "outputs": [
        {
          "output_type": "execute_result",
          "data": {
            "text/plain": [
              "True"
            ]
          },
          "metadata": {},
          "execution_count": 14
        }
      ],
      "source": [
        "layer1_output_direct = inputs @ layer1.weight.t() + layer1.bias\n",
        "torch.allclose(layer1_output, layer1_output_direct, 1e-3)"
      ],
      "id": "98b787f8"
    },
    {
      "cell_type": "code",
      "execution_count": null,
      "metadata": {
        "id": "76a587d3"
      },
      "outputs": [],
      "source": [
        "layer1_output_relu = F.relu(layer1_output)"
      ],
      "id": "76a587d3"
    },
    {
      "cell_type": "code",
      "execution_count": null,
      "metadata": {
        "colab": {
          "base_uri": "https://localhost:8080/"
        },
        "id": "0c1d7419",
        "outputId": "e3aa52fa-7a9e-4cf1-863d-792f9485f632"
      },
      "outputs": [
        {
          "output_type": "stream",
          "name": "stdout",
          "text": [
            "-0.7650220990180969\n",
            "0.0\n"
          ]
        }
      ],
      "source": [
        "print(torch.min(layer1_output).item())\n",
        "print(torch.min(layer1_output_relu).item())"
      ],
      "id": "0c1d7419"
    },
    {
      "cell_type": "code",
      "execution_count": null,
      "metadata": {
        "id": "40c30b99"
      },
      "outputs": [],
      "source": [
        "layer2 = nn.Linear(hidden_size, output_size)"
      ],
      "id": "40c30b99"
    },
    {
      "cell_type": "code",
      "execution_count": null,
      "metadata": {
        "colab": {
          "base_uri": "https://localhost:8080/"
        },
        "id": "3295d423",
        "outputId": "2326b472-3323-4e09-fc87-bf8ebd4b794b"
      },
      "outputs": [
        {
          "output_type": "execute_result",
          "data": {
            "text/plain": [
              "torch.Size([128, 10])"
            ]
          },
          "metadata": {},
          "execution_count": 18
        }
      ],
      "source": [
        "layer2_output = layer2(layer1_output_relu)\n",
        "layer2_output.shape"
      ],
      "id": "3295d423"
    },
    {
      "cell_type": "code",
      "execution_count": null,
      "metadata": {
        "colab": {
          "base_uri": "https://localhost:8080/"
        },
        "id": "6bddf29b",
        "outputId": "245e6666-3f98-42ab-8788-0472e84cf178"
      },
      "outputs": [
        {
          "output_type": "execute_result",
          "data": {
            "text/plain": [
              "tensor([[ 0.1809,  0.0236, -0.2181,  ...,  0.1270, -0.2281,  0.1586],\n",
              "        [ 0.2524,  0.0076, -0.1175,  ...,  0.1046, -0.1668,  0.1403],\n",
              "        [ 0.1877,  0.0157, -0.1779,  ...,  0.1682, -0.0914,  0.1481],\n",
              "        ...,\n",
              "        [ 0.2409,  0.0223, -0.1782,  ...,  0.1859, -0.1148,  0.1311],\n",
              "        [ 0.1923, -0.0427, -0.1366,  ...,  0.0835, -0.1348,  0.1713],\n",
              "        [ 0.2031, -0.0363, -0.1674,  ...,  0.1676, -0.1423,  0.1480]],\n",
              "       grad_fn=<AddmmBackward0>)"
            ]
          },
          "metadata": {},
          "execution_count": 19
        }
      ],
      "source": [
        "layer2_output"
      ],
      "id": "6bddf29b"
    },
    {
      "cell_type": "code",
      "execution_count": null,
      "metadata": {
        "id": "a16c9758"
      },
      "outputs": [],
      "source": [
        "layer2_output_direct = F.relu(inputs @ layer1.weight.t() + layer1.bias) @ layer2.weight.t() + layer2.bias"
      ],
      "id": "a16c9758"
    },
    {
      "cell_type": "code",
      "execution_count": null,
      "metadata": {
        "colab": {
          "base_uri": "https://localhost:8080/"
        },
        "id": "fbb4ec81",
        "outputId": "a7778da7-8d1e-4995-a087-f257b8215de8"
      },
      "outputs": [
        {
          "output_type": "execute_result",
          "data": {
            "text/plain": [
              "True"
            ]
          },
          "metadata": {},
          "execution_count": 21
        }
      ],
      "source": [
        "torch.allclose(layer2_output, layer2_output_direct, 1e-3)"
      ],
      "id": "fbb4ec81"
    },
    {
      "cell_type": "code",
      "execution_count": null,
      "metadata": {
        "id": "815d449e"
      },
      "outputs": [],
      "source": [
        "combined_layer = nn.Linear(inputs.shape[1], output_size)\n",
        "combined_layer.weight.data = layer2.weight @ layer1.weight\n",
        "combined_layer.bias.data = layer1.bias @ layer2.weight.t() + layer2.bias"
      ],
      "id": "815d449e"
    },
    {
      "cell_type": "code",
      "execution_count": null,
      "metadata": {
        "colab": {
          "base_uri": "https://localhost:8080/"
        },
        "id": "d1018007",
        "outputId": "f02ed42c-0f7d-49f8-80ba-8dc9c85baf8d"
      },
      "outputs": [
        {
          "output_type": "execute_result",
          "data": {
            "text/plain": [
              "True"
            ]
          },
          "metadata": {},
          "execution_count": 23
        }
      ],
      "source": [
        "output_combined = combined_layer(inputs)\n",
        "output_normal = (inputs @ layer1.weight.t() + layer1.bias) @ layer2.weight.t() + layer2.bias\n",
        "torch.allclose(output_combined, output_normal, 1e-3)"
      ],
      "id": "d1018007"
    },
    {
      "cell_type": "code",
      "execution_count": null,
      "metadata": {
        "id": "05f27fed"
      },
      "outputs": [],
      "source": [
        "class MnistModel(nn.Module):\n",
        "    def __init__(self, input_size, hidden_size, output_size):\n",
        "        super().__init__()\n",
        "        # first layer\n",
        "        self.layer1 = nn.Linear(input_size, hidden_size)\n",
        "        # second layer\n",
        "        self.layer2 = nn.Linear(hidden_size, output_size)\n",
        "    def forward(self, xb): #suggestion build CNN, feed forward\n",
        "        xb = xb. reshape(-1, 784)\n",
        "        # output of the first layer\n",
        "        out = self.layer1(xb)\n",
        "        # output of relu function\n",
        "        out = F.relu(out)\n",
        "        # final output\n",
        "        out = self.layer2(out)\n",
        "        return out\n",
        "    def training_step(self, batch):\n",
        "        images, labels = batch\n",
        "        outputs = self(images)\n",
        "        loss = F.cross_entropy(outputs, labels)\n",
        "        return loss\n",
        "    def validation_step(self, batch):\n",
        "        images, labels = batch\n",
        "        outputs = self(images)\n",
        "        loss = F.cross_entropy(outputs, labels)\n",
        "        acc = accuracy(outputs, labels)\n",
        "        return {'val_loss': loss, 'val_acc': acc}\n",
        "    def validation_epoch_end(self, outputs):\n",
        "        batch_losses = [x['val_loss'] for x in outputs]\n",
        "        epoch_loss = torch.stack(batch_losses).mean()\n",
        "        batch_accs = [x['val_acc'] for x in outputs]\n",
        "        epoch_acc = torch.stack(batch_accs).mean()\n",
        "        return {'val_loss': epoch_loss.item(), 'val_acc': epoch_acc.item()}\n",
        "    def epoch_end(self, epoch, result):\n",
        "        print(\"Epoch [{}], val_loss: {:.4f}, val_acc: {:.4f}\".format(epoch, result['val_loss'], result['val_acc']))"
      ],
      "id": "05f27fed"
    },
    {
      "cell_type": "code",
      "execution_count": null,
      "metadata": {
        "id": "85d3bfc9"
      },
      "outputs": [],
      "source": [
        "model = MnistModel(784, 32, 10)"
      ],
      "id": "85d3bfc9"
    },
    {
      "cell_type": "code",
      "execution_count": null,
      "metadata": {
        "colab": {
          "base_uri": "https://localhost:8080/"
        },
        "id": "9ed64c25",
        "outputId": "242b4417-0b30-4997-b904-c33eddd7908f"
      },
      "outputs": [
        {
          "output_type": "stream",
          "name": "stdout",
          "text": [
            "torch.Size([32, 784])\n",
            "torch.Size([32])\n",
            "torch.Size([10, 32])\n",
            "torch.Size([10])\n"
          ]
        }
      ],
      "source": [
        "for t in model.parameters():\n",
        "    print(t.shape)"
      ],
      "id": "9ed64c25"
    },
    {
      "cell_type": "code",
      "execution_count": null,
      "metadata": {
        "id": "5f3874cd"
      },
      "outputs": [],
      "source": [
        "def accuracy(outputs, labels):\n",
        "    _, preds = torch.max(outputs, dim=1)\n",
        "    return torch.tensor(torch.sum(preds == labels).item() / len(preds))"
      ],
      "id": "5f3874cd"
    },
    {
      "cell_type": "code",
      "execution_count": null,
      "metadata": {
        "id": "da1c9764"
      },
      "outputs": [],
      "source": [
        "def evaluate(model, valid_loader):\n",
        "    outputs = [model.validation_step(batch) for batch in valid_loader]\n",
        "    return model.validation_epoch_end(outputs)"
      ],
      "id": "da1c9764"
    },
    {
      "cell_type": "code",
      "execution_count": null,
      "metadata": {
        "id": "dbd25940"
      },
      "outputs": [],
      "source": [
        "def fit(epochs, lr, model, train_loader, valid_loader, opt_func=torch.optim.SGD):\n",
        "    history = []\n",
        "    optimizer = opt_func(model.parameters(), lr)\n",
        "    for epoch in range(epochs):\n",
        "        # training phrase\n",
        "        for batch in train_loader:\n",
        "            loss = model.training_step(batch)\n",
        "            loss.backward()\n",
        "            optimizer.step()\n",
        "            optimizer.zero_grad()\n",
        "        # validation phrase\n",
        "        result = evaluate(model, valid_loader)\n",
        "        model.epoch_end(epoch, result)\n",
        "        history.append(result)\n",
        "    return history"
      ],
      "id": "dbd25940"
    },
    {
      "cell_type": "code",
      "execution_count": null,
      "metadata": {
        "colab": {
          "base_uri": "https://localhost:8080/"
        },
        "id": "e985b8dd",
        "outputId": "27a08397-2001-451d-b394-f68dc1243ef8"
      },
      "outputs": [
        {
          "output_type": "execute_result",
          "data": {
            "text/plain": [
              "[{'val_loss': 2.311767339706421, 'val_acc': 0.09707031399011612}]"
            ]
          },
          "metadata": {},
          "execution_count": 30
        }
      ],
      "source": [
        "history = [evaluate(model, valid_loader)]\n",
        "history"
      ],
      "id": "e985b8dd"
    },
    {
      "cell_type": "code",
      "execution_count": null,
      "metadata": {
        "colab": {
          "base_uri": "https://localhost:8080/"
        },
        "id": "5fd1254e",
        "outputId": "113e9c30-a1c2-4c32-f063-2a546098931f"
      },
      "outputs": [
        {
          "output_type": "stream",
          "name": "stdout",
          "text": [
            "Epoch [0], val_loss: 2.3060, val_acc: 0.0988\n",
            "Epoch [1], val_loss: 2.3003, val_acc: 0.1013\n",
            "Epoch [2], val_loss: 2.2946, val_acc: 0.1046\n",
            "Epoch [3], val_loss: 2.2888, val_acc: 0.1075\n",
            "Epoch [4], val_loss: 2.2828, val_acc: 0.1112\n"
          ]
        }
      ],
      "source": [
        "history += fit(5, 0.0001, model, train_loader, valid_loader)"
      ],
      "id": "5fd1254e"
    },
    {
      "cell_type": "code",
      "execution_count": null,
      "metadata": {
        "colab": {
          "base_uri": "https://localhost:8080/"
        },
        "id": "353a61ed",
        "outputId": "f56bdfce-bbbb-4081-f33a-d3b3246f8b80"
      },
      "outputs": [
        {
          "output_type": "stream",
          "name": "stdout",
          "text": [
            "Epoch [0], val_loss: 2.2767, val_acc: 0.1156\n",
            "Epoch [1], val_loss: 2.2706, val_acc: 0.1196\n",
            "Epoch [2], val_loss: 2.2642, val_acc: 0.1260\n",
            "Epoch [3], val_loss: 2.2578, val_acc: 0.1340\n",
            "Epoch [4], val_loss: 2.2513, val_acc: 0.1445\n"
          ]
        }
      ],
      "source": [
        "history += fit(5, 0.0001, model, train_loader, valid_loader)"
      ],
      "id": "353a61ed"
    },
    {
      "cell_type": "code",
      "execution_count": null,
      "metadata": {
        "colab": {
          "base_uri": "https://localhost:8080/"
        },
        "id": "a30fb193",
        "outputId": "dde6d620-26e9-4de2-ef31-38193a4d2722"
      },
      "outputs": [
        {
          "output_type": "stream",
          "name": "stdout",
          "text": [
            "Epoch [0], val_loss: 2.2447, val_acc: 0.1552\n",
            "Epoch [1], val_loss: 2.2380, val_acc: 0.1696\n",
            "Epoch [2], val_loss: 2.2312, val_acc: 0.1824\n",
            "Epoch [3], val_loss: 2.2244, val_acc: 0.2025\n",
            "Epoch [4], val_loss: 2.2174, val_acc: 0.2172\n"
          ]
        }
      ],
      "source": [
        "history += fit(5, 0.0001, model, train_loader, valid_loader)"
      ],
      "id": "a30fb193"
    },
    {
      "cell_type": "code",
      "execution_count": null,
      "metadata": {
        "colab": {
          "base_uri": "https://localhost:8080/",
          "height": 472
        },
        "id": "ea91d80d",
        "outputId": "7414a4f9-6721-4a29-976e-d88d8c799466"
      },
      "outputs": [
        {
          "output_type": "display_data",
          "data": {
            "text/plain": [
              "<Figure size 640x480 with 1 Axes>"
            ],
            "image/png": "[encoded data removed]"
          },
          "metadata": {}
        }
      ],
      "source": [
        "losses = [x['val_loss'] for x in history]\n",
        "plt.plot(losses, '-x')\n",
        "plt.xlabel('epoch')\n",
        "plt.ylabel('loss')\n",
        "plt.title('Loss vs. No. of epochs');"
      ],
      "id": "ea91d80d"
    },
    {
      "cell_type": "code",
      "execution_count": null,
      "metadata": {
        "colab": {
          "base_uri": "https://localhost:8080/",
          "height": 472
        },
        "id": "795e5b21",
        "outputId": "3e3f4493-78ad-4641-af1c-c6e3032c5a1b"
      },
      "outputs": [
        {
          "output_type": "display_data",
          "data": {
            "text/plain": [
              "<Figure size 640x480 with 1 Axes>"
            ],
            "image/png": "[encoded data removed]"
          },
          "metadata": {}
        }
      ],
      "source": [
        "accuracies = [x['val_acc'] for x in history]\n",
        "plt.plot(accuracies, '-x')\n",
        "plt.xlabel('epoch')\n",
        "plt.ylabel('accuracy')\n",
        "plt.title('Accuracy vs. No. of epochs');"
      ],
      "id": "795e5b21"
    },
    {
      "cell_type": "code",
      "execution_count": null,
      "metadata": {
        "colab": {
          "base_uri": "https://localhost:8080/"
        },
        "id": "278b411d",
        "outputId": "f0d4e9c2-2b85-49c6-e6e0-2e23d9e8ea5e"
      },
      "outputs": [
        {
          "output_type": "stream",
          "name": "stdout",
          "text": [
            "Epoch [0], val_loss: 2.2104, val_acc: 0.2338\n",
            "Epoch [1], val_loss: 2.2032, val_acc: 0.2491\n",
            "Epoch [2], val_loss: 2.1960, val_acc: 0.2658\n",
            "Epoch [3], val_loss: 2.1886, val_acc: 0.2777\n",
            "Epoch [4], val_loss: 2.1810, val_acc: 0.2881\n"
          ]
        }
      ],
      "source": [
        "history += fit(5, 0.0001, model, train_loader, valid_loader)"
      ],
      "id": "278b411d"
    },
    {
      "cell_type": "code",
      "execution_count": null,
      "metadata": {
        "colab": {
          "base_uri": "https://localhost:8080/"
        },
        "id": "Yhb6uAZ3WZJo",
        "outputId": "1a9aec90-3ab2-43cc-cf40-37419ae6124d"
      },
      "outputs": [
        {
          "output_type": "stream",
          "name": "stdout",
          "text": [
            "Epoch [0], val_loss: 2.1734, val_acc: 0.3002\n",
            "Epoch [1], val_loss: 2.1656, val_acc: 0.3098\n",
            "Epoch [2], val_loss: 2.1577, val_acc: 0.3192\n",
            "Epoch [3], val_loss: 2.1497, val_acc: 0.3302\n",
            "Epoch [4], val_loss: 2.1417, val_acc: 0.3410\n"
          ]
        }
      ],
      "source": [
        "history += fit(5, 0.0001, model, train_loader, valid_loader)"
      ],
      "id": "Yhb6uAZ3WZJo"
    },
    {
      "cell_type": "code",
      "execution_count": null,
      "metadata": {
        "colab": {
          "base_uri": "https://localhost:8080/"
        },
        "id": "djppjUDPWpkf",
        "outputId": "edc79c6c-138e-470f-fa80-1a9d1bb415cc"
      },
      "outputs": [
        {
          "output_type": "stream",
          "name": "stdout",
          "text": [
            "Epoch [0], val_loss: 2.1335, val_acc: 0.3479\n",
            "Epoch [1], val_loss: 2.1252, val_acc: 0.3588\n",
            "Epoch [2], val_loss: 2.1168, val_acc: 0.3673\n",
            "Epoch [3], val_loss: 2.1083, val_acc: 0.3764\n",
            "Epoch [4], val_loss: 2.0997, val_acc: 0.3881\n"
          ]
        }
      ],
      "source": [
        "history += fit(5, 0.0001, model, train_loader, valid_loader)"
      ],
      "id": "djppjUDPWpkf"
    },
    {
      "cell_type": "code",
      "execution_count": null,
      "metadata": {
        "colab": {
          "base_uri": "https://localhost:8080/"
        },
        "id": "H5Iv0IqnW-Tx",
        "outputId": "8231301a-9a04-4272-a2f6-c72149500409"
      },
      "outputs": [
        {
          "output_type": "stream",
          "name": "stdout",
          "text": [
            "Epoch [0], val_loss: 2.0910, val_acc: 0.4044\n",
            "Epoch [1], val_loss: 2.0822, val_acc: 0.4215\n",
            "Epoch [2], val_loss: 2.0733, val_acc: 0.4357\n",
            "Epoch [3], val_loss: 2.0642, val_acc: 0.4505\n",
            "Epoch [4], val_loss: 2.0550, val_acc: 0.4656\n",
            "Epoch [5], val_loss: 2.0457, val_acc: 0.4798\n",
            "Epoch [6], val_loss: 2.0363, val_acc: 0.4913\n",
            "Epoch [7], val_loss: 2.0267, val_acc: 0.5027\n",
            "Epoch [8], val_loss: 2.0170, val_acc: 0.5121\n",
            "Epoch [9], val_loss: 2.0072, val_acc: 0.5231\n",
            "Epoch [10], val_loss: 1.9974, val_acc: 0.5313\n",
            "Epoch [11], val_loss: 1.9873, val_acc: 0.5403\n",
            "Epoch [12], val_loss: 1.9772, val_acc: 0.5471\n",
            "Epoch [13], val_loss: 1.9670, val_acc: 0.5539\n",
            "Epoch [14], val_loss: 1.9566, val_acc: 0.5598\n",
            "Epoch [15], val_loss: 1.9462, val_acc: 0.5704\n",
            "Epoch [16], val_loss: 1.9356, val_acc: 0.5755\n",
            "Epoch [17], val_loss: 1.9250, val_acc: 0.5821\n",
            "Epoch [18], val_loss: 1.9142, val_acc: 0.5883\n",
            "Epoch [19], val_loss: 1.9034, val_acc: 0.5929\n",
            "Epoch [20], val_loss: 1.8924, val_acc: 0.5972\n",
            "Epoch [21], val_loss: 1.8814, val_acc: 0.6004\n",
            "Epoch [22], val_loss: 1.8702, val_acc: 0.6052\n",
            "Epoch [23], val_loss: 1.8590, val_acc: 0.6092\n",
            "Epoch [24], val_loss: 1.8478, val_acc: 0.6133\n",
            "Epoch [25], val_loss: 1.8364, val_acc: 0.6169\n",
            "Epoch [26], val_loss: 1.8250, val_acc: 0.6193\n",
            "Epoch [27], val_loss: 1.8135, val_acc: 0.6239\n",
            "Epoch [28], val_loss: 1.8020, val_acc: 0.6280\n",
            "Epoch [29], val_loss: 1.7904, val_acc: 0.6318\n",
            "Epoch [30], val_loss: 1.7788, val_acc: 0.6349\n",
            "Epoch [31], val_loss: 1.7671, val_acc: 0.6387\n",
            "Epoch [32], val_loss: 1.7554, val_acc: 0.6433\n",
            "Epoch [33], val_loss: 1.7436, val_acc: 0.6464\n",
            "Epoch [34], val_loss: 1.7318, val_acc: 0.6488\n",
            "Epoch [35], val_loss: 1.7200, val_acc: 0.6512\n",
            "Epoch [36], val_loss: 1.7081, val_acc: 0.6550\n",
            "Epoch [37], val_loss: 1.6963, val_acc: 0.6586\n",
            "Epoch [38], val_loss: 1.6844, val_acc: 0.6616\n",
            "Epoch [39], val_loss: 1.6725, val_acc: 0.6646\n",
            "Epoch [40], val_loss: 1.6605, val_acc: 0.6677\n",
            "Epoch [41], val_loss: 1.6486, val_acc: 0.6705\n",
            "Epoch [42], val_loss: 1.6367, val_acc: 0.6732\n",
            "Epoch [43], val_loss: 1.6247, val_acc: 0.6756\n",
            "Epoch [44], val_loss: 1.6128, val_acc: 0.6775\n",
            "Epoch [45], val_loss: 1.6009, val_acc: 0.6801\n",
            "Epoch [46], val_loss: 1.5890, val_acc: 0.6816\n",
            "Epoch [47], val_loss: 1.5771, val_acc: 0.6830\n",
            "Epoch [48], val_loss: 1.5652, val_acc: 0.6848\n",
            "Epoch [49], val_loss: 1.5534, val_acc: 0.6874\n"
          ]
        }
      ],
      "source": [
        "history += fit(50, 0.0001, model, train_loader, valid_loader)"
      ],
      "id": "H5Iv0IqnW-Tx"
    },
    {
      "cell_type": "code",
      "execution_count": null,
      "metadata": {
        "colab": {
          "base_uri": "https://localhost:8080/"
        },
        "id": "8lOtr577XOMJ",
        "outputId": "f3a3e930-4ed6-4213-8ece-e759effa1494"
      },
      "outputs": [
        {
          "output_type": "stream",
          "name": "stdout",
          "text": [
            "Epoch [0], val_loss: 1.5416, val_acc: 0.6899\n",
            "Epoch [1], val_loss: 1.5298, val_acc: 0.6919\n",
            "Epoch [2], val_loss: 1.5180, val_acc: 0.6938\n",
            "Epoch [3], val_loss: 1.5063, val_acc: 0.6951\n",
            "Epoch [4], val_loss: 1.4947, val_acc: 0.6969\n",
            "Epoch [5], val_loss: 1.4831, val_acc: 0.6987\n",
            "Epoch [6], val_loss: 1.4715, val_acc: 0.7014\n",
            "Epoch [7], val_loss: 1.4600, val_acc: 0.7037\n",
            "Epoch [8], val_loss: 1.4486, val_acc: 0.7056\n",
            "Epoch [9], val_loss: 1.4372, val_acc: 0.7077\n",
            "Epoch [10], val_loss: 1.4259, val_acc: 0.7087\n",
            "Epoch [11], val_loss: 1.4147, val_acc: 0.7104\n",
            "Epoch [12], val_loss: 1.4035, val_acc: 0.7124\n",
            "Epoch [13], val_loss: 1.3924, val_acc: 0.7139\n",
            "Epoch [14], val_loss: 1.3814, val_acc: 0.7153\n",
            "Epoch [15], val_loss: 1.3705, val_acc: 0.7168\n",
            "Epoch [16], val_loss: 1.3597, val_acc: 0.7182\n",
            "Epoch [17], val_loss: 1.3489, val_acc: 0.7188\n",
            "Epoch [18], val_loss: 1.3383, val_acc: 0.7205\n",
            "Epoch [19], val_loss: 1.3278, val_acc: 0.7223\n",
            "Epoch [20], val_loss: 1.3173, val_acc: 0.7241\n",
            "Epoch [21], val_loss: 1.3070, val_acc: 0.7253\n",
            "Epoch [22], val_loss: 1.2967, val_acc: 0.7275\n",
            "Epoch [23], val_loss: 1.2865, val_acc: 0.7293\n",
            "Epoch [24], val_loss: 1.2765, val_acc: 0.7312\n",
            "Epoch [25], val_loss: 1.2666, val_acc: 0.7327\n",
            "Epoch [26], val_loss: 1.2567, val_acc: 0.7346\n",
            "Epoch [27], val_loss: 1.2470, val_acc: 0.7371\n",
            "Epoch [28], val_loss: 1.2374, val_acc: 0.7381\n",
            "Epoch [29], val_loss: 1.2279, val_acc: 0.7392\n",
            "Epoch [30], val_loss: 1.2185, val_acc: 0.7401\n",
            "Epoch [31], val_loss: 1.2092, val_acc: 0.7413\n",
            "Epoch [32], val_loss: 1.2000, val_acc: 0.7428\n",
            "Epoch [33], val_loss: 1.1909, val_acc: 0.7442\n",
            "Epoch [34], val_loss: 1.1820, val_acc: 0.7460\n",
            "Epoch [35], val_loss: 1.1731, val_acc: 0.7474\n",
            "Epoch [36], val_loss: 1.1644, val_acc: 0.7491\n",
            "Epoch [37], val_loss: 1.1558, val_acc: 0.7506\n",
            "Epoch [38], val_loss: 1.1473, val_acc: 0.7513\n",
            "Epoch [39], val_loss: 1.1389, val_acc: 0.7523\n",
            "Epoch [40], val_loss: 1.1306, val_acc: 0.7541\n",
            "Epoch [41], val_loss: 1.1224, val_acc: 0.7549\n",
            "Epoch [42], val_loss: 1.1144, val_acc: 0.7565\n",
            "Epoch [43], val_loss: 1.1064, val_acc: 0.7578\n",
            "Epoch [44], val_loss: 1.0985, val_acc: 0.7599\n",
            "Epoch [45], val_loss: 1.0908, val_acc: 0.7616\n",
            "Epoch [46], val_loss: 1.0832, val_acc: 0.7626\n",
            "Epoch [47], val_loss: 1.0756, val_acc: 0.7645\n",
            "Epoch [48], val_loss: 1.0682, val_acc: 0.7653\n",
            "Epoch [49], val_loss: 1.0609, val_acc: 0.7665\n"
          ]
        }
      ],
      "source": [
        "history += fit(50, 0.0001, model, train_loader, valid_loader)"
      ],
      "id": "8lOtr577XOMJ"
    },
    {
      "cell_type": "code",
      "execution_count": null,
      "metadata": {
        "colab": {
          "base_uri": "https://localhost:8080/"
        },
        "id": "2GHBjSPdZWXv",
        "outputId": "111a171e-d08e-4620-dbfa-f7f5b542a359"
      },
      "outputs": [
        {
          "output_type": "stream",
          "name": "stdout",
          "text": [
            "Epoch [0], val_loss: 1.0537, val_acc: 0.7688\n",
            "Epoch [1], val_loss: 1.0465, val_acc: 0.7703\n",
            "Epoch [2], val_loss: 1.0395, val_acc: 0.7719\n",
            "Epoch [3], val_loss: 1.0326, val_acc: 0.7736\n",
            "Epoch [4], val_loss: 1.0258, val_acc: 0.7753\n",
            "Epoch [5], val_loss: 1.0190, val_acc: 0.7767\n",
            "Epoch [6], val_loss: 1.0124, val_acc: 0.7792\n",
            "Epoch [7], val_loss: 1.0059, val_acc: 0.7812\n",
            "Epoch [8], val_loss: 0.9994, val_acc: 0.7829\n",
            "Epoch [9], val_loss: 0.9931, val_acc: 0.7841\n",
            "Epoch [10], val_loss: 0.9868, val_acc: 0.7863\n",
            "Epoch [11], val_loss: 0.9806, val_acc: 0.7878\n",
            "Epoch [12], val_loss: 0.9745, val_acc: 0.7884\n",
            "Epoch [13], val_loss: 0.9685, val_acc: 0.7897\n",
            "Epoch [14], val_loss: 0.9626, val_acc: 0.7910\n",
            "Epoch [15], val_loss: 0.9568, val_acc: 0.7924\n",
            "Epoch [16], val_loss: 0.9510, val_acc: 0.7938\n",
            "Epoch [17], val_loss: 0.9454, val_acc: 0.7942\n",
            "Epoch [18], val_loss: 0.9398, val_acc: 0.7947\n",
            "Epoch [19], val_loss: 0.9343, val_acc: 0.7956\n",
            "Epoch [20], val_loss: 0.9288, val_acc: 0.7967\n",
            "Epoch [21], val_loss: 0.9235, val_acc: 0.7970\n",
            "Epoch [22], val_loss: 0.9182, val_acc: 0.7987\n",
            "Epoch [23], val_loss: 0.9130, val_acc: 0.7992\n",
            "Epoch [24], val_loss: 0.9079, val_acc: 0.8004\n",
            "Epoch [25], val_loss: 0.9028, val_acc: 0.8013\n",
            "Epoch [26], val_loss: 0.8978, val_acc: 0.8024\n",
            "Epoch [27], val_loss: 0.8929, val_acc: 0.8032\n",
            "Epoch [28], val_loss: 0.8880, val_acc: 0.8037\n",
            "Epoch [29], val_loss: 0.8832, val_acc: 0.8043\n",
            "Epoch [30], val_loss: 0.8785, val_acc: 0.8053\n",
            "Epoch [31], val_loss: 0.8739, val_acc: 0.8064\n",
            "Epoch [32], val_loss: 0.8693, val_acc: 0.8077\n",
            "Epoch [33], val_loss: 0.8647, val_acc: 0.8086\n",
            "Epoch [34], val_loss: 0.8603, val_acc: 0.8091\n",
            "Epoch [35], val_loss: 0.8558, val_acc: 0.8096\n",
            "Epoch [36], val_loss: 0.8515, val_acc: 0.8106\n",
            "Epoch [37], val_loss: 0.8472, val_acc: 0.8116\n",
            "Epoch [38], val_loss: 0.8430, val_acc: 0.8117\n",
            "Epoch [39], val_loss: 0.8388, val_acc: 0.8127\n",
            "Epoch [40], val_loss: 0.8347, val_acc: 0.8133\n",
            "Epoch [41], val_loss: 0.8306, val_acc: 0.8137\n",
            "Epoch [42], val_loss: 0.8266, val_acc: 0.8139\n",
            "Epoch [43], val_loss: 0.8226, val_acc: 0.8146\n",
            "Epoch [44], val_loss: 0.8187, val_acc: 0.8153\n",
            "Epoch [45], val_loss: 0.8148, val_acc: 0.8158\n",
            "Epoch [46], val_loss: 0.8110, val_acc: 0.8166\n",
            "Epoch [47], val_loss: 0.8073, val_acc: 0.8170\n",
            "Epoch [48], val_loss: 0.8035, val_acc: 0.8177\n",
            "Epoch [49], val_loss: 0.7999, val_acc: 0.8184\n"
          ]
        }
      ],
      "source": [
        "history += fit(50, 0.0001, model, train_loader, valid_loader)"
      ],
      "id": "2GHBjSPdZWXv"
    },
    {
      "cell_type": "code",
      "source": [
        "losses = [x['val_loss'] for x in history]\n",
        "plt.plot(losses, '-x')\n",
        "plt.xlabel('epoch')\n",
        "plt.ylabel('loss')\n",
        "plt.title('Loss vs. No. of epochs');"
      ],
      "metadata": {
        "colab": {
          "base_uri": "https://localhost:8080/",
          "height": 472
        },
        "id": "R96lha_OnQba",
        "outputId": "463b3cde-4e12-438c-ee25-6c49dcaff638"
      },
      "id": "R96lha_OnQba",
      "execution_count": null,
      "outputs": [
        {
          "output_type": "display_data",
          "data": {
            "text/plain": [
              "<Figure size 640x480 with 1 Axes>"
            ],
            "image/png": "[encoded data removed]"
          },
          "metadata": {}
        }
      ]
    },
    {
      "cell_type": "code",
      "source": [
        "accuracies = [x['val_acc'] for x in history]\n",
        "plt.plot(accuracies, '-x')\n",
        "plt.xlabel('epoch')\n",
        "plt.ylabel('accuracy')\n",
        "plt.title('Accuracy vs. No. of epochs');"
      ],
      "metadata": {
        "colab": {
          "base_uri": "https://localhost:8080/",
          "height": 472
        },
        "id": "XxBNYmV4nQ9K",
        "outputId": "75bfff15-ad67-403c-e674-f4283e6f2f77"
      },
      "id": "XxBNYmV4nQ9K",
      "execution_count": null,
      "outputs": [
        {
          "output_type": "display_data",
          "data": {
            "text/plain": [
              "<Figure size 640x480 with 1 Axes>"
            ],
            "image/png": "[encoded data removed]"
          },
          "metadata": {}
        }
      ]
    },
    {
      "cell_type": "code",
      "source": [],
      "metadata": {
        "id": "s5m5tsD8nWTT"
      },
      "id": "s5m5tsD8nWTT",
      "execution_count": null,
      "outputs": []
    }
  ],
  "metadata": {
    "colab": {
      "provenance": [],
      "toc_visible": true
    },
    "kernelspec": {
      "display_name": "Python 3 (ipykernel)",
      "language": "python",
      "name": "python3"
    },
    "language_info": {
      "codemirror_mode": {
        "name": "ipython",
        "version": 3
      },
      "file_extension": ".py",
      "mimetype": "text/x-python",
      "name": "python",
      "nbconvert_exporter": "python",
      "pygments_lexer": "ipython3",
      "version": "3.11.5"
    }
  },
  "nbformat": 4,
  "nbformat_minor": 5
}