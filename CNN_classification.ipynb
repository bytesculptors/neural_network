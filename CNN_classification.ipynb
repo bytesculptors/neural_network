{
  "nbformat": 4,
  "nbformat_minor": 0,
  "metadata": {
    "colab": {
      "provenance": [],
      "gpuType": "T4"
    },
    "kernelspec": {
      "name": "python3",
      "display_name": "Python 3"
    },
    "language_info": {
      "name": "python"
    },
    "accelerator": "GPU"
  },
  "cells": [
    {
      "cell_type": "code",
      "execution_count": null,
      "metadata": {
        "id": "jYbyhmMYF7Vx"
      },
      "outputs": [],
      "source": [
        "import torch\n",
        "import torch.nn as nn\n",
        "import torchvision\n",
        "import torch.nn.functional as F\n",
        "from torch.utils.data import DataLoader\n",
        "from torch.utils.data import random_split\n",
        "from torchvision.datasets import ImageFolder\n",
        "from torchvision.datasets.utils import download_url\n",
        "from torchvision.transforms import ToTensor\n",
        "import tarfile\n",
        "import os\n",
        "import matplotlib.pyplot as plt"
      ]
    },
    {
      "cell_type": "code",
      "source": [
        "dataset_url = 'https://s3.amazonaws.com/fast-ai-imageclas/cifar10.tgz'\n",
        "download_url(dataset_url, '.')"
      ],
      "metadata": {
        "id": "4OYSNs2zHRrD",
        "colab": {
          "base_uri": "https://localhost:8080/"
        },
        "outputId": "935813b4-0124-4f97-9385-eee549d66b44"
      },
      "execution_count": null,
      "outputs": [
        {
          "output_type": "stream",
          "name": "stdout",
          "text": [
            "Downloading https://s3.amazonaws.com/fast-ai-imageclas/cifar10.tgz to ./cifar10.tgz\n"
          ]
        },
        {
          "output_type": "stream",
          "name": "stderr",
          "text": [
            "100%|██████████| 135107811/135107811 [00:03<00:00, 39960448.22it/s]\n"
          ]
        }
      ]
    },
    {
      "cell_type": "code",
      "source": [
        "with tarfile.open('./cifar10.tgz', 'r:gz') as tar:\n",
        "  tar.extractall(path='./data')"
      ],
      "metadata": {
        "id": "FKej8RXFHfdF"
      },
      "execution_count": null,
      "outputs": []
    },
    {
      "cell_type": "code",
      "source": [
        "dataset = ImageFolder(root='./data/cifar10/train', transform=ToTensor())\n",
        "len(dataset)"
      ],
      "metadata": {
        "id": "P_r8B89CHjfB",
        "colab": {
          "base_uri": "https://localhost:8080/"
        },
        "outputId": "f85e6baa-9da6-46d5-fd01-cf12ecfbf995"
      },
      "execution_count": null,
      "outputs": [
        {
          "output_type": "execute_result",
          "data": {
            "text/plain": [
              "50000"
            ]
          },
          "metadata": {},
          "execution_count": 4
        }
      ]
    },
    {
      "cell_type": "code",
      "source": [
        "random_seed = 42\n",
        "torch.manual_seed(random_seed);"
      ],
      "metadata": {
        "id": "PdaEzrTJN_q4"
      },
      "execution_count": null,
      "outputs": []
    },
    {
      "cell_type": "code",
      "source": [
        "train_len = 45000\n",
        "valid_len = len(dataset) - train_len\n",
        "train_ds, valid_ds = random_split(dataset, [train_len, valid_len])\n",
        "len(train_ds), len(valid_ds)"
      ],
      "metadata": {
        "id": "Wzh7QNY3KBLG",
        "colab": {
          "base_uri": "https://localhost:8080/"
        },
        "outputId": "0e7ead02-7358-4969-c859-2b2199f698d6"
      },
      "execution_count": null,
      "outputs": [
        {
          "output_type": "execute_result",
          "data": {
            "text/plain": [
              "(45000, 5000)"
            ]
          },
          "metadata": {},
          "execution_count": 6
        }
      ]
    },
    {
      "cell_type": "code",
      "source": [
        "batch_size = 128\n",
        "train_loader = DataLoader(train_ds, batch_size, shuffle=True, num_workers=4, pin_memory=True)\n",
        "valid_loader = DataLoader(valid_ds, batch_size*2, num_workers=4, pin_memory=True)\n",
        "len(train_loader), len(valid_loader)"
      ],
      "metadata": {
        "id": "_8FmqUQ0Kbln",
        "colab": {
          "base_uri": "https://localhost:8080/"
        },
        "outputId": "1acbe648-80e2-4bbf-8976-6dc083086e44"
      },
      "execution_count": null,
      "outputs": [
        {
          "output_type": "stream",
          "name": "stderr",
          "text": [
            "/usr/local/lib/python3.10/dist-packages/torch/utils/data/dataloader.py:557: UserWarning: This DataLoader will create 4 worker processes in total. Our suggested max number of worker in current system is 2, which is smaller than what this DataLoader is going to create. Please be aware that excessive worker creation might get DataLoader running slow or even freeze, lower the worker number to avoid potential slowness/freeze if necessary.\n",
            "  warnings.warn(_create_warning_msg(\n"
          ]
        },
        {
          "output_type": "execute_result",
          "data": {
            "text/plain": [
              "(352, 20)"
            ]
          },
          "metadata": {},
          "execution_count": 7
        }
      ]
    },
    {
      "cell_type": "code",
      "source": [
        "def accuracy_score(output, labels):\n",
        "  _, preds = torch.max(output, dim=1)\n",
        "  correct_preds = torch.sum(preds == labels).item()\n",
        "  total_preds = len(preds)\n",
        "  return torch.tensor(correct_preds / total_preds)"
      ],
      "metadata": {
        "id": "PVdYasylLRsd"
      },
      "execution_count": null,
      "outputs": []
    },
    {
      "cell_type": "code",
      "source": [
        "if torch.cuda.is_available():\n",
        "  device = torch.device('cuda')\n",
        "else:\n",
        "  device = torch.device('cpu')"
      ],
      "metadata": {
        "id": "jeVq85j_OW18"
      },
      "execution_count": null,
      "outputs": []
    },
    {
      "cell_type": "code",
      "source": [
        "device"
      ],
      "metadata": {
        "id": "ARmYhDipRWrK",
        "colab": {
          "base_uri": "https://localhost:8080/"
        },
        "outputId": "37eca2d1-4497-4e89-8c39-e44c48a84d8f"
      },
      "execution_count": null,
      "outputs": [
        {
          "output_type": "execute_result",
          "data": {
            "text/plain": [
              "device(type='cuda')"
            ]
          },
          "metadata": {},
          "execution_count": 10
        }
      ]
    },
    {
      "cell_type": "code",
      "source": [
        "class ImageClassification(nn.Module):\n",
        "  def training_step(self, batch):\n",
        "    images, labels = batch\n",
        "    outputs = self(images)\n",
        "    loss = F.cross_entropy(outputs, labels)\n",
        "    return loss\n",
        "  def validation_step(self, batch):\n",
        "    images, labels = batch\n",
        "    outputs = self(images)\n",
        "    loss = F.cross_entropy(outputs, labels)\n",
        "    acc = accuracy_score(outputs, labels)\n",
        "    return {'val_loss': loss.detach(), 'val_acc': acc}\n",
        "  def epoch_validation_step(self, output):\n",
        "    losses = [x['val_loss'] for x in output]\n",
        "    epoch_loss = torch.stack(losses).mean()\n",
        "    accs = [x['val_acc'] for x in output]\n",
        "    epoch_accs = torch.stack(accs).mean()\n",
        "    return {'val_loss': epoch_loss.item(), 'val_acc': epoch_accs.item()}\n",
        "  def epoch_end(self, epoch, result):\n",
        "    print(\"Epoch [{}], train_loss: {:.4f}, val_loss: {:.4f}, val_acc: {:.4f}\".format(\n",
        "            epoch, result['train_loss'], result['val_loss'], result['val_acc']))"
      ],
      "metadata": {
        "id": "aouNtRl6V8WR"
      },
      "execution_count": null,
      "outputs": []
    },
    {
      "cell_type": "code",
      "source": [
        "class Cifar10Model(ImageClassification):\n",
        "  def __init__(self):\n",
        "    super().__init__()\n",
        "    self.network = nn.Sequential(\n",
        "        nn.Conv2d(3, 32, kernel_size=3, padding=1),\n",
        "        nn.ReLU(),\n",
        "        nn.Conv2d(32, 64, kernel_size=3, stride=1, padding=1),\n",
        "        nn.ReLU(),\n",
        "        nn.MaxPool2d(2, 2), # output: 64 x 16 x 16\n",
        "\n",
        "        nn.Conv2d(64, 128, kernel_size=3, stride=1, padding=1),\n",
        "        nn.ReLU(),\n",
        "        nn.Conv2d(128, 128, kernel_size=3, stride=1, padding=1),\n",
        "        nn.ReLU(),\n",
        "        nn.MaxPool2d(2, 2), # output: 128 x 8 x 8\n",
        "\n",
        "        nn.Conv2d(128, 256, kernel_size=3, stride=1, padding=1),\n",
        "        nn.ReLU(),\n",
        "        nn.Conv2d(256, 256, kernel_size=3, stride=1, padding=1),\n",
        "        nn.ReLU(),\n",
        "        nn.MaxPool2d(2, 2), # output: 256 x 4 x 4\n",
        "\n",
        "        nn.Flatten(),\n",
        "        nn.Linear(256*4*4, 1024),\n",
        "        nn.ReLU(),\n",
        "        nn.Linear(1024, 512),\n",
        "        nn.ReLU(),\n",
        "        nn.Linear(512, 10)\n",
        "    )\n",
        "  def forward(self, img):\n",
        "    return self.network(img)"
      ],
      "metadata": {
        "id": "Rfq6y5phRXoY"
      },
      "execution_count": null,
      "outputs": []
    },
    {
      "cell_type": "code",
      "source": [
        "model = Cifar10Model()\n",
        "model"
      ],
      "metadata": {
        "id": "5goYPKNEas7R",
        "colab": {
          "base_uri": "https://localhost:8080/"
        },
        "outputId": "c440aacd-a2b3-4a47-d4c8-5ea27c8c54f3"
      },
      "execution_count": null,
      "outputs": [
        {
          "output_type": "execute_result",
          "data": {
            "text/plain": [
              "Cifar10Model(\n",
              "  (network): Sequential(\n",
              "    (0): Conv2d(3, 32, kernel_size=(3, 3), stride=(1, 1), padding=(1, 1))\n",
              "    (1): ReLU()\n",
              "    (2): Conv2d(32, 64, kernel_size=(3, 3), stride=(1, 1), padding=(1, 1))\n",
              "    (3): ReLU()\n",
              "    (4): MaxPool2d(kernel_size=2, stride=2, padding=0, dilation=1, ceil_mode=False)\n",
              "    (5): Conv2d(64, 128, kernel_size=(3, 3), stride=(1, 1), padding=(1, 1))\n",
              "    (6): ReLU()\n",
              "    (7): Conv2d(128, 128, kernel_size=(3, 3), stride=(1, 1), padding=(1, 1))\n",
              "    (8): ReLU()\n",
              "    (9): MaxPool2d(kernel_size=2, stride=2, padding=0, dilation=1, ceil_mode=False)\n",
              "    (10): Conv2d(128, 256, kernel_size=(3, 3), stride=(1, 1), padding=(1, 1))\n",
              "    (11): ReLU()\n",
              "    (12): Conv2d(256, 256, kernel_size=(3, 3), stride=(1, 1), padding=(1, 1))\n",
              "    (13): ReLU()\n",
              "    (14): MaxPool2d(kernel_size=2, stride=2, padding=0, dilation=1, ceil_mode=False)\n",
              "    (15): Flatten(start_dim=1, end_dim=-1)\n",
              "    (16): Linear(in_features=4096, out_features=1024, bias=True)\n",
              "    (17): ReLU()\n",
              "    (18): Linear(in_features=1024, out_features=512, bias=True)\n",
              "    (19): ReLU()\n",
              "    (20): Linear(in_features=512, out_features=10, bias=True)\n",
              "  )\n",
              ")"
            ]
          },
          "metadata": {},
          "execution_count": 13
        }
      ]
    },
    {
      "cell_type": "code",
      "source": [
        "def to_device(data, device):\n",
        "    \"\"\"Move tensor(s) to chosen device\"\"\"\n",
        "    if isinstance(data, (list,tuple)):\n",
        "        return [to_device(x, device) for x in data]\n",
        "    return data.to(device, non_blocking=True)\n",
        "class DeviceDataLoader():\n",
        "    \"\"\"Wrap a dataloader to move data to a device\"\"\"\n",
        "    def __init__(self, dl, device):\n",
        "        self.dl = dl\n",
        "        self.device = device\n",
        "\n",
        "    def __iter__(self):\n",
        "        \"\"\"Yield a batch of data after moving it to device\"\"\"\n",
        "        for b in self.dl:\n",
        "            yield to_device(b, self.device)\n",
        "\n",
        "    def __len__(self):\n",
        "        \"\"\"Number of batches\"\"\"\n",
        "        return len(self.dl)"
      ],
      "metadata": {
        "id": "tgedk9EHaxYR"
      },
      "execution_count": null,
      "outputs": []
    },
    {
      "cell_type": "code",
      "source": [
        "train_loader = DeviceDataLoader(train_loader, device)\n",
        "valid_loader = DeviceDataLoader(valid_loader, device)\n",
        "to_device(model, device)"
      ],
      "metadata": {
        "id": "Hnp07fUNd1VY",
        "colab": {
          "base_uri": "https://localhost:8080/"
        },
        "outputId": "4747db20-c0c3-41bb-b764-3405047805c0"
      },
      "execution_count": null,
      "outputs": [
        {
          "output_type": "execute_result",
          "data": {
            "text/plain": [
              "Cifar10Model(\n",
              "  (network): Sequential(\n",
              "    (0): Conv2d(3, 32, kernel_size=(3, 3), stride=(1, 1), padding=(1, 1))\n",
              "    (1): ReLU()\n",
              "    (2): Conv2d(32, 64, kernel_size=(3, 3), stride=(1, 1), padding=(1, 1))\n",
              "    (3): ReLU()\n",
              "    (4): MaxPool2d(kernel_size=2, stride=2, padding=0, dilation=1, ceil_mode=False)\n",
              "    (5): Conv2d(64, 128, kernel_size=(3, 3), stride=(1, 1), padding=(1, 1))\n",
              "    (6): ReLU()\n",
              "    (7): Conv2d(128, 128, kernel_size=(3, 3), stride=(1, 1), padding=(1, 1))\n",
              "    (8): ReLU()\n",
              "    (9): MaxPool2d(kernel_size=2, stride=2, padding=0, dilation=1, ceil_mode=False)\n",
              "    (10): Conv2d(128, 256, kernel_size=(3, 3), stride=(1, 1), padding=(1, 1))\n",
              "    (11): ReLU()\n",
              "    (12): Conv2d(256, 256, kernel_size=(3, 3), stride=(1, 1), padding=(1, 1))\n",
              "    (13): ReLU()\n",
              "    (14): MaxPool2d(kernel_size=2, stride=2, padding=0, dilation=1, ceil_mode=False)\n",
              "    (15): Flatten(start_dim=1, end_dim=-1)\n",
              "    (16): Linear(in_features=4096, out_features=1024, bias=True)\n",
              "    (17): ReLU()\n",
              "    (18): Linear(in_features=1024, out_features=512, bias=True)\n",
              "    (19): ReLU()\n",
              "    (20): Linear(in_features=512, out_features=10, bias=True)\n",
              "  )\n",
              ")"
            ]
          },
          "metadata": {},
          "execution_count": 15
        }
      ]
    },
    {
      "cell_type": "code",
      "source": [
        "def evaluate(model, valid_loader):\n",
        "  model.eval()\n",
        "  output = [model.validation_step(batch) for batch in valid_loader]\n",
        "  return model.epoch_validation_step(output)"
      ],
      "metadata": {
        "id": "6E_9l8wHehCt"
      },
      "execution_count": null,
      "outputs": []
    },
    {
      "cell_type": "code",
      "source": [
        "def fit(epoch_num, lr, model, train_loader, valid_loader, opt_func=torch.optim.SGD):\n",
        "  history = []\n",
        "  optimizer = opt_func(model.parameters(), lr)\n",
        "  for epoch in range(epoch_num):\n",
        "    # Training\n",
        "    model.train()\n",
        "    train_losses = []\n",
        "    for batch in train_loader:\n",
        "      loss = model.training_step(batch)\n",
        "      train_losses.append(loss)\n",
        "      loss.backward()\n",
        "      optimizer.step()\n",
        "      optimizer.zero_grad()\n",
        "    result = evaluate(model, valid_loader)\n",
        "    result['train_loss'] = torch.stack(train_losses).mean().item()\n",
        "    model.epoch_end(epoch, result)\n",
        "    history.append(result)\n",
        "  return history"
      ],
      "metadata": {
        "id": "cQ8Xp-4Tft1n"
      },
      "execution_count": null,
      "outputs": []
    },
    {
      "cell_type": "code",
      "source": [
        "model = to_device(Cifar10Model(), device)"
      ],
      "metadata": {
        "id": "QoUXKdI0ih17"
      },
      "execution_count": null,
      "outputs": []
    },
    {
      "cell_type": "code",
      "source": [
        "evaluate(model, valid_loader)"
      ],
      "metadata": {
        "id": "o0oubpn5ivAm",
        "colab": {
          "base_uri": "https://localhost:8080/"
        },
        "outputId": "8e2b64d7-a451-4f6a-bf30-f8e6feca3e54"
      },
      "execution_count": null,
      "outputs": [
        {
          "output_type": "execute_result",
          "data": {
            "text/plain": [
              "{'val_loss': 2.3029754161834717, 'val_acc': 0.10143611580133438}"
            ]
          },
          "metadata": {},
          "execution_count": 19
        }
      ]
    },
    {
      "cell_type": "code",
      "source": [
        "num_epochs = 10\n",
        "opt_func = torch.optim.Adam\n",
        "lr = 0.001"
      ],
      "metadata": {
        "id": "C4noPzQ9i1be"
      },
      "execution_count": null,
      "outputs": []
    },
    {
      "cell_type": "code",
      "source": [
        "history = []"
      ],
      "metadata": {
        "id": "_AOMyD4f2q--"
      },
      "execution_count": null,
      "outputs": []
    },
    {
      "cell_type": "code",
      "source": [
        "history += fit(num_epochs, lr, model, train_loader, valid_loader, opt_func)"
      ],
      "metadata": {
        "id": "c4m0CxOwoy4I",
        "colab": {
          "base_uri": "https://localhost:8080/"
        },
        "outputId": "8a438d8f-6283-44ad-81de-301d433eef99"
      },
      "execution_count": null,
      "outputs": [
        {
          "output_type": "stream",
          "name": "stdout",
          "text": [
            "Epoch [0], train_loss: 1.7404, val_loss: 1.4032, val_acc: 0.4828\n",
            "Epoch [1], train_loss: 1.1922, val_loss: 1.0904, val_acc: 0.6107\n",
            "Epoch [2], train_loss: 0.9071, val_loss: 0.8612, val_acc: 0.6917\n",
            "Epoch [3], train_loss: 0.7284, val_loss: 0.7562, val_acc: 0.7375\n",
            "Epoch [4], train_loss: 0.5847, val_loss: 0.7412, val_acc: 0.7535\n",
            "Epoch [5], train_loss: 0.4736, val_loss: 0.7616, val_acc: 0.7501\n",
            "Epoch [6], train_loss: 0.3672, val_loss: 0.7178, val_acc: 0.7751\n",
            "Epoch [7], train_loss: 0.2742, val_loss: 0.8133, val_acc: 0.7691\n",
            "Epoch [8], train_loss: 0.2064, val_loss: 0.9325, val_acc: 0.7593\n",
            "Epoch [9], train_loss: 0.1491, val_loss: 1.0434, val_acc: 0.7707\n"
          ]
        }
      ]
    },
    {
      "cell_type": "code",
      "source": [
        "val_accs = [x.get('val_acc') for x in history]\n",
        "plt.plot(val_accs, '-bx')\n",
        "plt.xlabel('epoch')\n",
        "plt.ylabel('acc')"
      ],
      "metadata": {
        "id": "XsSxMfF88rTs",
        "colab": {
          "base_uri": "https://localhost:8080/",
          "height": 466
        },
        "outputId": "de52baae-21cd-4634-bdc0-33502718c7f3"
      },
      "execution_count": null,
      "outputs": [
        {
          "output_type": "execute_result",
          "data": {
            "text/plain": [
              "Text(0, 0.5, 'acc')"
            ]
          },
          "metadata": {},
          "execution_count": 28
        },
        {
          "output_type": "display_data",
          "data": {
            "text/plain": [
              "<Figure size 640x480 with 1 Axes>"
            ],
            "image/png": "[encoded data removed]"
          },
          "metadata": {}
        }
      ]
    },
    {
      "cell_type": "code",
      "source": [
        "# val_loss = [x.get('val_loss') for x in history]\n",
        "# plt.plot(val_loss, '-rx')\n",
        "# plt.xlabel('epoch')\n",
        "# plt.ylabel('loss')"
      ],
      "metadata": {
        "id": "WYmWZMht-Y8V"
      },
      "execution_count": null,
      "outputs": []
    },
    {
      "cell_type": "code",
      "source": [
        "dataset.classes"
      ],
      "metadata": {
        "colab": {
          "base_uri": "https://localhost:8080/"
        },
        "id": "539_4Kok_7vi",
        "outputId": "c5fc3bee-bfee-4309-bb4d-1d9a5c215795"
      },
      "execution_count": null,
      "outputs": [
        {
          "output_type": "execute_result",
          "data": {
            "text/plain": [
              "['airplane',\n",
              " 'automobile',\n",
              " 'bird',\n",
              " 'cat',\n",
              " 'deer',\n",
              " 'dog',\n",
              " 'frog',\n",
              " 'horse',\n",
              " 'ship',\n",
              " 'truck']"
            ]
          },
          "metadata": {},
          "execution_count": 32
        }
      ]
    },
    {
      "cell_type": "code",
      "source": [
        "def predict_image(model, img):\n",
        "  img = to_device(img.unsqueeze(0), device)\n",
        "  output = model(img)\n",
        "  _, pred = torch.max(output, dim=1)\n",
        "  return dataset.classes[pred[0].item()]"
      ],
      "metadata": {
        "id": "3nwcKR60-eEo"
      },
      "execution_count": null,
      "outputs": []
    },
    {
      "cell_type": "code",
      "source": [
        "test_ds = ImageFolder(root='./data/cifar10/test', transform=ToTensor())"
      ],
      "metadata": {
        "id": "a-wylL7qAEaQ"
      },
      "execution_count": null,
      "outputs": []
    },
    {
      "cell_type": "code",
      "source": [
        "image, label = test_ds[0]\n",
        "plt.imshow(image.permute(1, 2, 0))\n",
        "print('Predict:', predict_image(model, image))\n",
        "print('Label:', dataset.classes[label])"
      ],
      "metadata": {
        "colab": {
          "base_uri": "https://localhost:8080/",
          "height": 465
        },
        "id": "uYZD89xhARqM",
        "outputId": "c3789819-b94d-4884-8174-5f3e2afd5be5"
      },
      "execution_count": null,
      "outputs": [
        {
          "output_type": "stream",
          "name": "stdout",
          "text": [
            "Predict: airplane\n",
            "Label: airplane\n"
          ]
        },
        {
          "output_type": "display_data",
          "data": {
            "text/plain": [
              "<Figure size 640x480 with 1 Axes>"
            ],
            "image/png": "[encoded data removed]"
          },
          "metadata": {}
        }
      ]
    },
    {
      "cell_type": "code",
      "source": [
        "image, label = test_ds[1219]\n",
        "plt.imshow(image.permute(1, 2, 0))\n",
        "print('Predict:', predict_image(model, image))\n",
        "print('Label:', dataset.classes[label])"
      ],
      "metadata": {
        "colab": {
          "base_uri": "https://localhost:8080/",
          "height": 465
        },
        "id": "UXECZW2jAhJJ",
        "outputId": "348ad9c9-f2a3-4b45-880f-3d2348f64a43"
      },
      "execution_count": null,
      "outputs": [
        {
          "output_type": "stream",
          "name": "stdout",
          "text": [
            "Predict: automobile\n",
            "Label: automobile\n"
          ]
        },
        {
          "output_type": "display_data",
          "data": {
            "text/plain": [
              "<Figure size 640x480 with 1 Axes>"
            ],
            "image/png": "[encoded data removed]"
          },
          "metadata": {}
        }
      ]
    },
    {
      "cell_type": "code",
      "source": [],
      "metadata": {
        "id": "G6hEgA4yAqMN"
      },
      "execution_count": null,
      "outputs": []
    }
  ]
}